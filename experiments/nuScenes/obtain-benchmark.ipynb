{
 "cells": [
  {
   "cell_type": "code",
   "execution_count": 5,
   "metadata": {},
   "outputs": [],
   "source": [
    "import pandas as pd\n",
    "import numpy as np\n",
    "import glob\n",
    "import matplotlib.pyplot as plt\n",
    "import matplotlib.ticker as ticker"
   ]
  },
  {
   "cell_type": "markdown",
   "metadata": {},
   "source": [
    "# Vehicles"
   ]
  },
  {
   "cell_type": "code",
   "execution_count": 8,
   "metadata": {},
   "outputs": [],
   "source": [
    "def get_name_of_model_1(ph):\n",
    "    \"\"\"Best model trained on NuScenes evaluated on NuScenes\n",
    "    \"\"\"\n",
    "    return f\"models_19_Mar_2021_22_14_19_int_ee_me_ph{ph}_ckpt20\"\n",
    "\n",
    "def get_name_of_model_2(ph):\n",
    "    \"\"\"Best model trained on NuScenes evaluated on CARLA synthesized\n",
    "    \"\"\"\n",
    "    return \"models_19_Mar_2021_22_14_19_int_ee_me_carla_v2_1_ckpt20\"\n",
    "\n",
    "def get_name_of_model_3(ph):\n",
    "    \"\"\"Best model trained on CARLA synthesized evaluated on CARLA synthesized\n",
    "    \"\"\"\n",
    "    return \"models_20_Jun_2021_23_53_04_carla_v2_1_dynmap_ckpt20\""
   ]
  },
  {
   "cell_type": "code",
   "execution_count": 9,
   "metadata": {
    "scrolled": false
   },
   "outputs": [
    {
     "name": "stdout",
     "output_type": "stream",
     "text": [
      "-----------------PH: 2 -------------------\n",
      "FDE Mean @1.0s: 3.2572452496704645\n",
      "RB Viols @1.0s: 0.05325547596087615\n",
      "FDE @1.0s: 0.352186358594166\n",
      "KDE @1.0s: 0.9700154630255473\n",
      "----------------------------------------------\n",
      "-----------------PH: 4 -------------------\n",
      "FDE Mean @2.0s: 7.980183581563286\n",
      "RB Viols @2.0s: 0.1817956100472976\n",
      "FDE @2.0s: 1.2227099791746359\n",
      "KDE @2.0s: 2.4313320010430903\n",
      "----------------------------------------------\n",
      "-----------------PH: 6 -------------------\n",
      "FDE Mean @3.0s: 12.316565977560327\n",
      "RB Viols @3.0s: 0.31966076594572257\n",
      "FDE @3.0s: 2.602749048353593\n",
      "KDE @3.0s: 3.3956108123709714\n",
      "----------------------------------------------\n",
      "-----------------PH: 8 -------------------\n",
      "FDE Mean @4.0s: 15.681622192192245\n",
      "RB Viols @4.0s: 0.4611157643385223\n",
      "FDE @4.0s: 4.445411441547135\n",
      "KDE @4.0s: 4.0972086830030925\n",
      "----------------------------------------------\n",
      "\n"
     ]
    }
   ],
   "source": [
    "get_name = get_name_of_model_3\n",
    "\n",
    "for ph in [2, 4, 6, 8]:\n",
    "    model = get_name(ph)\n",
    "    print(f\"-----------------PH: {ph} -------------------\")\n",
    "    perf_df = pd.DataFrame()\n",
    "    for f in glob.glob(f\"results/{model}_{ph}_fde_full.csv\"):\n",
    "        dataset_df = pd.read_csv(f)\n",
    "        dataset_df['model'] = model\n",
    "        perf_df = perf_df.append(dataset_df, ignore_index=True)\n",
    "        \n",
    "    del perf_df['Unnamed: 0']\n",
    "    print(f\"FDE Mean @{ph*0.5}s: {perf_df['value'][perf_df['type'] == 'full'].mean()}\")\n",
    "    del perf_df\n",
    "    \n",
    "    perf_df = pd.DataFrame()\n",
    "    for f in glob.glob(f\"results/{model}_{ph}_rv_full.csv\"):\n",
    "        dataset_df = pd.read_csv(f)\n",
    "        dataset_df['model'] = model\n",
    "        perf_df = perf_df.append(dataset_df, ignore_index=True)\n",
    "    del perf_df['Unnamed: 0']\n",
    "    print(f\"RB Viols @{ph*0.5}s: {perf_df['value'][perf_df['type'] == 'full'].sum() / (len(perf_df['value'][perf_df['type'] == 'full'].index)*2000)}\")\n",
    "    del perf_df\n",
    "    \n",
    "    perf_df = pd.DataFrame()\n",
    "    for f in glob.glob(f\"results/{model}*_{ph}_fde_most_likely_z.csv\"):\n",
    "        dataset_df = pd.read_csv(f)\n",
    "        dataset_df['model'] = model\n",
    "        perf_df = perf_df.append(dataset_df, ignore_index=True)\n",
    "    del perf_df['Unnamed: 0']\n",
    "    print(f\"FDE @{ph*0.5}s: {perf_df['value'][perf_df['type'] == 'ml'].mean()}\")      \n",
    "    del perf_df\n",
    "    \n",
    "    perf_df = pd.DataFrame()\n",
    "    for f in glob.glob(f\"results/{model}*_{ph}_kde_full.csv\"):\n",
    "        dataset_df = pd.read_csv(f)\n",
    "        dataset_df['model'] = model\n",
    "        perf_df = perf_df.append(dataset_df, ignore_index=True)\n",
    "    del perf_df['Unnamed: 0']\n",
    "    print(f\"KDE @{ph*0.5}s: {perf_df['value'][perf_df['type'] == 'full'].mean()}\")      \n",
    "    print(\"----------------------------------------------\")\n",
    "    del perf_df\n",
    "\n",
    "print(\"\")"
   ]
  },
  {
   "cell_type": "raw",
   "metadata": {},
   "source": [
    "Best model trained on NuScenes evaluated on NuScenes\n",
    "\n",
    "-----------------PH: 2 -------------------\n",
    "FDE Mean @1.0s: 0.15182256486761259\n",
    "RB Viols @1.0s: 0.0031022071149189793\n",
    "FDE @1.0s: 0.06292406154047325\n",
    "KDE @1.0s: -4.354025753837452\n",
    "----------------------------------------------\n",
    "-----------------PH: 4 -------------------\n",
    "FDE Mean @2.0s: 0.6553442904480666\n",
    "RB Viols @2.0s: 0.005965418762028931\n",
    "FDE @2.0s: 0.45230260189229887\n",
    "KDE @2.0s: -2.877255819597273\n",
    "----------------------------------------------\n",
    "-----------------PH: 6 -------------------\n",
    "FDE Mean @3.0s: 1.5548163222151064\n",
    "RB Viols @3.0s: 0.02318917240951139\n",
    "FDE @3.0s: 1.1423997359283085\n",
    "KDE @3.0s: -1.7385125557376775\n",
    "----------------------------------------------\n",
    "-----------------PH: 8 -------------------\n",
    "FDE Mean @4.0s: 2.8618928508640686\n",
    "RB Viols @4.0s: 0.06494625007760602\n",
    "FDE @4.0s: 2.15848219007119\n",
    "KDE @4.0s: -0.8299132921508723\n",
    "----------------------------------------------"
   ]
  },
  {
   "cell_type": "raw",
   "metadata": {},
   "source": [
    "Best model trained on NuScenes evaluated on CARLA synthesized\n",
    "\n",
    "-----------------PH: 2 -------------------\n",
    "FDE Mean @1.0s: 0.15914019238802013\n",
    "RB Viols @1.0s: 0.006165357946457272\n",
    "FDE @1.0s: 0.07369703724998541\n",
    "KDE @1.0s: -5.078881480816927\n",
    "----------------------------------------------\n",
    "-----------------PH: 4 -------------------\n",
    "FDE Mean @2.0s: 0.7020935124934814\n",
    "RB Viols @2.0s: 0.028424140147862424\n",
    "FDE @2.0s: 0.4788654040759823\n",
    "KDE @2.0s: -3.3538313541435354\n",
    "----------------------------------------------\n",
    "-----------------PH: 6 -------------------\n",
    "FDE Mean @3.0s: 1.774790913297912\n",
    "RB Viols @3.0s: 0.13080226844836296\n",
    "FDE @3.0s: 1.330473774567583\n",
    "KDE @3.0s: -1.9923533913907265\n",
    "----------------------------------------------\n",
    "-----------------PH: 8 -------------------\n",
    "FDE Mean @4.0s: 3.3296711791238813\n",
    "RB Viols @4.0s: 0.24782033797125408\n",
    "FDE @4.0s: 2.603999961223322\n",
    "KDE @4.0s: -0.9223312149552207\n",
    "----------------------------------------------"
   ]
  },
  {
   "cell_type": "raw",
   "metadata": {},
   "source": [
    "Best model trained on CARLA synthesized evaluated on CARLA synthesized\n",
    "\n",
    "-----------------PH: 2 -------------------\n",
    "FDE Mean @1.0s: 3.2572452496704645\n",
    "RB Viols @1.0s: 0.05325547596087615\n",
    "FDE @1.0s: 0.352186358594166\n",
    "KDE @1.0s: 0.9700154630255473\n",
    "----------------------------------------------\n",
    "-----------------PH: 4 -------------------\n",
    "FDE Mean @2.0s: 7.980183581563286\n",
    "RB Viols @2.0s: 0.1817956100472976\n",
    "FDE @2.0s: 1.2227099791746359\n",
    "KDE @2.0s: 2.4313320010430903\n",
    "----------------------------------------------\n",
    "-----------------PH: 6 -------------------\n",
    "FDE Mean @3.0s: 12.316565977560327\n",
    "RB Viols @3.0s: 0.31966076594572257\n",
    "FDE @3.0s: 2.602749048353593\n",
    "KDE @3.0s: 3.3956108123709714\n",
    "----------------------------------------------\n",
    "-----------------PH: 8 -------------------\n",
    "FDE Mean @4.0s: 15.681622192192245\n",
    "RB Viols @4.0s: 0.4611157643385223\n",
    "FDE @4.0s: 4.445411441547135\n",
    "KDE @4.0s: 4.0972086830030925\n",
    "----------------------------------------------"
   ]
  },
  {
   "cell_type": "raw",
   "metadata": {},
   "source": [
    "# FDE / FDE ML\n",
    "N-N         & N-C         & C-C\n",
    "0.15 / 0.06 & 0.15 / 0.07 & 3.25 / 0.35\n",
    "0.65 / 0.45 & 0.70 / 0.47 & 7.98 / 1.22\n",
    "1.55 / 1.14 & 1.77 / 1.33 & 12.3 / 2.60\n",
    "2.86 / 2.15 & 3.32 / 2.60 & 15.6 / 4.44"
   ]
  },
  {
   "cell_type": "markdown",
   "metadata": {},
   "source": [
    "## Scratch"
   ]
  },
  {
   "cell_type": "code",
   "execution_count": null,
   "metadata": {},
   "outputs": [],
   "source": [
    "date = \"19_Mar_2021_22_14_19\"\n",
    "type = \"int_ee_me\"\n",
    "ph = 2\n",
    "ckpt = 20\n",
    "model = f\"models_{date}_{type}_ph{ph}_ckpt{ckpt}\"\n",
    "perf_df = pd.DataFrame()\n",
    "for f in glob.glob(f\"results/{model}_{ph}_fde_full.csv\"):\n",
    "    dataset_df = pd.read_csv(f)\n",
    "    dataset_df['model'] = model\n",
    "    perf_df = perf_df.append(dataset_df, ignore_index=True)\n",
    "del perf_df['Unnamed: 0']"
   ]
  },
  {
   "cell_type": "code",
   "execution_count": null,
   "metadata": {},
   "outputs": [],
   "source": [
    "perf_df[:5]"
   ]
  }
 ],
 "metadata": {
  "kernelspec": {
   "display_name": "Python 3.6 (Trajectron++)",
   "language": "python",
   "name": "trajectronpp"
  },
  "language_info": {
   "codemirror_mode": {
    "name": "ipython",
    "version": 3
   },
   "file_extension": ".py",
   "mimetype": "text/x-python",
   "name": "python",
   "nbconvert_exporter": "python",
   "pygments_lexer": "ipython3",
   "version": "3.6.12"
  }
 },
 "nbformat": 4,
 "nbformat_minor": 2
}
